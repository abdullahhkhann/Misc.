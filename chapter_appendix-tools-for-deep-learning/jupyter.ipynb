{
  "cells": [
    {
      "cell_type": "markdown",
      "metadata": {
        "id": "view-in-github",
        "colab_type": "text"
      },
      "source": [
        "<a href=\"https://colab.research.google.com/github/abdullahhkhann/Misc./blob/main/chapter_appendix-tools-for-deep-learning/jupyter.ipynb\" target=\"_parent\"><img src=\"https://colab.research.google.com/assets/colab-badge.svg\" alt=\"Open In Colab\"/></a>"
      ]
    },
    {
      "cell_type": "markdown",
      "source": [
        "**Muhammad Abdullah Khan - T546E399**"
      ],
      "metadata": {
        "id": "thbZBUJI0GGy"
      },
      "id": "thbZBUJI0GGy"
    },
    {
      "cell_type": "markdown",
      "source": [
        "1) Load the dataset with no headers and space as the delimiter"
      ],
      "metadata": {
        "id": "uVMovWGS0RRS"
      },
      "id": "uVMovWGS0RRS"
    },
    {
      "cell_type": "code",
      "source": [
        "import pandas as pd\n",
        "\n",
        "# Load the dataset with no headers and space as the delimiter\n",
        "df = pd.read_csv('/content/sample_data/boston_housing.data', delimiter=r'\\s+', header=None)\n",
        "\n",
        "# Show the first few rows\n",
        "print(df.head())"
      ],
      "metadata": {
        "id": "Qfs2hWHu0Prk",
        "outputId": "19ad2e36-f6a1-4f77-d53a-10965773601b",
        "colab": {
          "base_uri": "https://localhost:8080/"
        }
      },
      "id": "Qfs2hWHu0Prk",
      "execution_count": 1,
      "outputs": [
        {
          "output_type": "stream",
          "name": "stdout",
          "text": [
            "         0     1      2   3      4      5      6       7   8      9     10  \\\n",
            "0   0.10574   0.0  27.74   0  0.609  5.983   98.8  1.8681   4  711.0  20.1   \n",
            "1   7.75223   0.0  18.10   0  0.713  6.301   83.7  2.7831  24  666.0  20.2   \n",
            "2   0.02763  75.0   2.95   0  0.428  6.595   21.8  5.4011   3  252.0  18.3   \n",
            "3   0.09266  34.0   6.09   0  0.433  6.495   18.4  5.4917   7  329.0  16.1   \n",
            "4  15.17720   0.0  18.10   0  0.740  6.152  100.0  1.9142  24  666.0  20.2   \n",
            "\n",
            "       11     12    13  \n",
            "0  390.11  18.07  13.6  \n",
            "1  272.21  16.23  14.9  \n",
            "2  395.63   4.32  30.8  \n",
            "3  383.61   8.67  26.4  \n",
            "4    9.32  26.45   8.7  \n"
          ]
        }
      ]
    }
  ],
  "metadata": {
    "kernelspec": {
      "display_name": "Python 3",
      "name": "python3"
    },
    "language_info": {
      "name": "python"
    },
    "required_libs": [],
    "colab": {
      "provenance": [],
      "include_colab_link": true
    }
  },
  "nbformat": 4,
  "nbformat_minor": 5
}