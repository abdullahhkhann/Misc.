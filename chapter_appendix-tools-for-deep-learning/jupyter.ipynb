{
  "cells": [
    {
      "cell_type": "markdown",
      "metadata": {
        "id": "view-in-github",
        "colab_type": "text"
      },
      "source": [
        "<a href=\"https://colab.research.google.com/github/abdullahhkhann/Misc./blob/main/chapter_appendix-tools-for-deep-learning/jupyter.ipynb\" target=\"_parent\"><img src=\"https://colab.research.google.com/assets/colab-badge.svg\" alt=\"Open In Colab\"/></a>"
      ]
    },
    {
      "cell_type": "markdown",
      "source": [
        "**Muhammad Abdullah Khan - T546E399**"
      ],
      "metadata": {
        "id": "thbZBUJI0GGy"
      },
      "id": "thbZBUJI0GGy"
    },
    {
      "cell_type": "markdown",
      "source": [
        "1) Load the dataset with no headers and space as the delimiter"
      ],
      "metadata": {
        "id": "uVMovWGS0RRS"
      },
      "id": "uVMovWGS0RRS"
    },
    {
      "cell_type": "code",
      "source": [
        "import pandas as pd\n",
        "\n",
        "# Load the dataset with no headers and space as the delimiter\n",
        "df = pd.read_csv('/content/sample_data/boston_housing.data', delimiter=r'\\s+', header=None)\n",
        "\n",
        "# Show the first few rows\n",
        "print(df.head())"
      ],
      "metadata": {
        "colab": {
          "base_uri": "https://localhost:8080/"
        },
        "id": "Qfs2hWHu0Prk",
        "outputId": "19ad2e36-f6a1-4f77-d53a-10965773601b"
      },
      "id": "Qfs2hWHu0Prk",
      "execution_count": 1,
      "outputs": [
        {
          "output_type": "stream",
          "name": "stdout",
          "text": [
            "         0     1      2   3      4      5      6       7   8      9     10  \\\n",
            "0   0.10574   0.0  27.74   0  0.609  5.983   98.8  1.8681   4  711.0  20.1   \n",
            "1   7.75223   0.0  18.10   0  0.713  6.301   83.7  2.7831  24  666.0  20.2   \n",
            "2   0.02763  75.0   2.95   0  0.428  6.595   21.8  5.4011   3  252.0  18.3   \n",
            "3   0.09266  34.0   6.09   0  0.433  6.495   18.4  5.4917   7  329.0  16.1   \n",
            "4  15.17720   0.0  18.10   0  0.740  6.152  100.0  1.9142  24  666.0  20.2   \n",
            "\n",
            "       11     12    13  \n",
            "0  390.11  18.07  13.6  \n",
            "1  272.21  16.23  14.9  \n",
            "2  395.63   4.32  30.8  \n",
            "3  383.61   8.67  26.4  \n",
            "4    9.32  26.45   8.7  \n"
          ]
        }
      ]
    },
    {
      "cell_type": "markdown",
      "source": [
        "2) Multiply the last column by 1000"
      ],
      "metadata": {
        "id": "swZDEiSG1flt"
      },
      "id": "swZDEiSG1flt"
    },
    {
      "cell_type": "code",
      "source": [
        "# Multiply the last column (column index 13) by 1000\n",
        "df[13] = df[13] * 1000\n",
        "\n",
        "# Check that it worked\n",
        "print(df[13].head())"
      ],
      "metadata": {
        "id": "BX-Wq7Wn1rqP",
        "outputId": "9ee5583e-3c7b-4a0a-9ebe-b874857fbdcb",
        "colab": {
          "base_uri": "https://localhost:8080/"
        }
      },
      "id": "BX-Wq7Wn1rqP",
      "execution_count": 2,
      "outputs": [
        {
          "output_type": "stream",
          "name": "stdout",
          "text": [
            "0    13600.0\n",
            "1    14900.0\n",
            "2    30800.0\n",
            "3    26400.0\n",
            "4     8700.0\n",
            "Name: 13, dtype: float64\n"
          ]
        }
      ]
    },
    {
      "cell_type": "markdown",
      "source": [
        "3) Split the Data into Training and Test Sets & Separating out Features and Labels"
      ],
      "metadata": {
        "id": "m5bcHcB51voP"
      },
      "id": "m5bcHcB51voP"
    },
    {
      "cell_type": "code",
      "source": [
        "from sklearn.model_selection import train_test_split\n",
        "\n",
        "# First 13 columns are features, last column is the target (housing price)\n",
        "X = df.iloc[:, :-1]  # Features (columns 0 to 12)\n",
        "y = df.iloc[:, -1]   # Target (column 13)\n",
        "\n",
        "# Perform the split: 70% training, 30% testing\n",
        "X_train, X_test, y_train, y_test = train_test_split(X, y, test_size=0.3, random_state=42)\n",
        "\n",
        "# Print shapes to verify\n",
        "print(\"Training set shape:\", X_train.shape)\n",
        "print(\"Test set shape:\", X_test.shape)"
      ],
      "metadata": {
        "id": "Zb8rKN8i18Ep",
        "outputId": "22f6740a-1b3d-438f-9b06-8e147204889f",
        "colab": {
          "base_uri": "https://localhost:8080/"
        }
      },
      "id": "Zb8rKN8i18Ep",
      "execution_count": 3,
      "outputs": [
        {
          "output_type": "stream",
          "name": "stdout",
          "text": [
            "Training set shape: (354, 13)\n",
            "Test set shape: (152, 13)\n"
          ]
        }
      ]
    },
    {
      "cell_type": "markdown",
      "source": [
        "4) Handle Missing Values (if any) and Scale Features Using StandardScaler"
      ],
      "metadata": {
        "id": "kuLsg7px2cNh"
      },
      "id": "kuLsg7px2cNh"
    },
    {
      "cell_type": "code",
      "source": [
        "from sklearn.preprocessing import StandardScaler\n",
        "\n",
        "# Initialize the scaler\n",
        "scaler = StandardScaler()\n",
        "\n",
        "# Fit the scaler only on the training data\n",
        "X_train = scaler.fit_transform(X_train)\n",
        "\n",
        "# Transform the test data using the same scaler\n",
        "X_test = scaler.transform(X_test)"
      ],
      "metadata": {
        "id": "Lz4OtXyy2zx1"
      },
      "id": "Lz4OtXyy2zx1",
      "execution_count": 4,
      "outputs": []
    },
    {
      "cell_type": "markdown",
      "source": [
        "5) Initializing the 4 Regression Models"
      ],
      "metadata": {
        "id": "KwaoveQa26hZ"
      },
      "id": "KwaoveQa26hZ"
    },
    {
      "cell_type": "code",
      "source": [
        "from sklearn.linear_model import LinearRegression\n",
        "from sklearn.tree import DecisionTreeRegressor\n",
        "from sklearn.ensemble import RandomForestRegressor\n",
        "from sklearn.svm import SVR\n",
        "\n",
        "# Define the four models\n",
        "models = {\n",
        "    'LinearRegression': LinearRegression(),\n",
        "    'DecisionTreeRegressor': DecisionTreeRegressor(random_state=42),\n",
        "    'RandomForestRegressor': RandomForestRegressor(random_state=42),\n",
        "    'SVR': SVR(kernel='rbf', gamma=0.01)\n",
        "}"
      ],
      "metadata": {
        "id": "ql13SUVi3FR6"
      },
      "id": "ql13SUVi3FR6",
      "execution_count": 5,
      "outputs": []
    },
    {
      "cell_type": "markdown",
      "source": [
        "6) Perform 10-Fold Cross-Validation for Each Model"
      ],
      "metadata": {
        "id": "_Lyiclk13JK0"
      },
      "id": "_Lyiclk13JK0"
    },
    {
      "cell_type": "code",
      "source": [
        "from sklearn.model_selection import cross_val_score\n",
        "import numpy as np\n",
        "\n",
        "# Perform 10-fold CV and print RMSE stats\n",
        "for name, model in models.items():\n",
        "    print(f\"\\nModel: {name}\")\n",
        "\n",
        "    # cross_val_score gives NEGATIVE RMSE, so we negate it back\n",
        "    scores = cross_val_score(model, X_train, y_train, cv=10, scoring='neg_root_mean_squared_error')\n",
        "    rmse_scores = -scores\n",
        "\n",
        "    print(\"RMSE for each fold:\", np.round(rmse_scores, 2))\n",
        "    print(\"Mean RMSE:\", round(rmse_scores.mean(), 2))\n",
        "    print(\"Standard Deviation:\", round(rmse_scores.std(), 2))"
      ],
      "metadata": {
        "id": "03wwhOyj3TU8",
        "outputId": "b2f06999-fe88-4a5b-bd7b-65ffb45785d7",
        "colab": {
          "base_uri": "https://localhost:8080/"
        }
      },
      "id": "03wwhOyj3TU8",
      "execution_count": 6,
      "outputs": [
        {
          "output_type": "stream",
          "name": "stdout",
          "text": [
            "\n",
            "Model: LinearRegression\n",
            "RMSE for each fold: [5950.36 5377.69 4064.73 3410.71 4316.39 3159.05 3238.71 4855.28 5184.96\n",
            " 5772.  ]\n",
            "Mean RMSE: 4532.99\n",
            "Standard Deviation: 993.74\n",
            "\n",
            "Model: DecisionTreeRegressor\n",
            "RMSE for each fold: [4048.42 5556.63 4045.13 6892.69 4573.99 3491.5  3168.42 4926.87 3453.32\n",
            " 6264.62]\n",
            "Mean RMSE: 4642.16\n",
            "Standard Deviation: 1193.21\n",
            "\n",
            "Model: RandomForestRegressor\n",
            "RMSE for each fold: [3114.33 4971.98 4076.82 2732.86 3434.63 2828.34 2357.64 3384.33 2824.05\n",
            " 5106.55]\n",
            "Mean RMSE: 3483.15\n",
            "Standard Deviation: 896.97\n",
            "\n",
            "Model: SVR\n",
            "RMSE for each fold: [ 9376.59  8882.71  8469.07  7542.62  9567.51  8812.32  4699.83  8909.15\n",
            " 10775.37  9672.35]\n",
            "Mean RMSE: 8670.75\n",
            "Standard Deviation: 1547.2\n"
          ]
        }
      ]
    },
    {
      "cell_type": "markdown",
      "source": [
        "7) GridSearchCV for RandomForestRegressor Hyperparameter Tuning"
      ],
      "metadata": {
        "id": "Utp2ko4n3h7P"
      },
      "id": "Utp2ko4n3h7P"
    },
    {
      "cell_type": "code",
      "source": [
        "from sklearn.ensemble import RandomForestRegressor\n",
        "from sklearn.model_selection import GridSearchCV\n",
        "from sklearn.metrics import mean_squared_error\n",
        "\n",
        "# Define parameter grid\n",
        "param_grid = {\n",
        "    'n_estimators': [10, 20, 30, 40],\n",
        "    'max_features': [4, 8]\n",
        "}\n",
        "\n",
        "# Setup GridSearchCV\n",
        "grid_search = GridSearchCV(\n",
        "    estimator=RandomForestRegressor(random_state=42),\n",
        "    param_grid=param_grid,\n",
        "    cv=10,\n",
        "    scoring='neg_root_mean_squared_error',\n",
        "    return_train_score=True\n",
        ")\n",
        "\n",
        "# Fit GridSearch\n",
        "grid_search.fit(X_train, y_train)\n",
        "\n",
        "# Print results for each combination\n",
        "print(\"\\nGrid Search CV Results:\")\n",
        "for mean_score, std_score, params in zip(\n",
        "    grid_search.cv_results_['mean_test_score'],\n",
        "    grid_search.cv_results_['std_test_score'],\n",
        "    grid_search.cv_results_['params']\n",
        "):\n",
        "    print(f\"Params: {params}, Mean RMSE: {-mean_score:.2f}, Std Dev: {std_score:.2f}\")\n",
        "\n",
        "# Print best parameters\n",
        "print(\"\\nBest Hyperparameters:\", grid_search.best_params_)\n",
        "\n",
        "# Evaluate best model on test set\n",
        "final_model = grid_search.best_estimator_\n",
        "y_pred = final_model.predict(X_test)\n",
        "rmse_test = np.sqrt(mean_squared_error(y_test, y_pred))\n",
        "\n",
        "print(f\"\\nTest RMSE with best model: {rmse_test:.2f}\")"
      ],
      "metadata": {
        "id": "YI2dpmJm3rMg",
        "outputId": "999cd6c8-e0a1-427f-98ea-a22ce8df898a",
        "colab": {
          "base_uri": "https://localhost:8080/"
        }
      },
      "id": "YI2dpmJm3rMg",
      "execution_count": 8,
      "outputs": [
        {
          "output_type": "stream",
          "name": "stdout",
          "text": [
            "\n",
            "Grid Search CV Results:\n",
            "Params: {'max_features': 4, 'n_estimators': 10}, Mean RMSE: 3706.72, Std Dev: 734.45\n",
            "Params: {'max_features': 4, 'n_estimators': 20}, Mean RMSE: 3455.36, Std Dev: 784.00\n",
            "Params: {'max_features': 4, 'n_estimators': 30}, Mean RMSE: 3304.52, Std Dev: 758.18\n",
            "Params: {'max_features': 4, 'n_estimators': 40}, Mean RMSE: 3277.26, Std Dev: 758.02\n",
            "Params: {'max_features': 8, 'n_estimators': 10}, Mean RMSE: 3477.52, Std Dev: 868.64\n",
            "Params: {'max_features': 8, 'n_estimators': 20}, Mean RMSE: 3307.90, Std Dev: 754.81\n",
            "Params: {'max_features': 8, 'n_estimators': 30}, Mean RMSE: 3268.24, Std Dev: 744.04\n",
            "Params: {'max_features': 8, 'n_estimators': 40}, Mean RMSE: 3267.56, Std Dev: 800.43\n",
            "\n",
            "Best Hyperparameters: {'max_features': 8, 'n_estimators': 40}\n",
            "\n",
            "Test RMSE with best model: 3317.56\n"
          ]
        }
      ]
    }
  ],
  "metadata": {
    "kernelspec": {
      "display_name": "Python 3",
      "name": "python3"
    },
    "language_info": {
      "name": "python"
    },
    "required_libs": [],
    "colab": {
      "provenance": [],
      "include_colab_link": true
    }
  },
  "nbformat": 4,
  "nbformat_minor": 5
}